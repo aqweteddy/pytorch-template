{
 "metadata": {
  "language_info": {
   "codemirror_mode": {
    "name": "ipython",
    "version": 3
   },
   "file_extension": ".py",
   "mimetype": "text/x-python",
   "name": "python",
   "nbconvert_exporter": "python",
   "pygments_lexer": "ipython3",
   "version": "3.7.7-final"
  },
  "orig_nbformat": 2,
  "kernelspec": {
   "name": "Python 3.7.7 64-bit",
   "display_name": "Python 3.7.7 64-bit",
   "metadata": {
    "interpreter": {
     "hash": "f6c046d2d20156e753d084b23aa67427b62929592bcd9a1d0fa29829df17b11c"
    }
   }
  }
 },
 "nbformat": 4,
 "nbformat_minor": 2,
 "cells": [
  {
   "cell_type": "code",
   "execution_count": 1,
   "metadata": {},
   "outputs": [],
   "source": [
    "import torch\n",
    "import pytorch_lightning as pl\n",
    "import numpy as np\n",
    "from gensim.models import Word2Vec\n",
    "from train import Lightning"
   ]
  },
  {
   "cell_type": "code",
   "execution_count": 2,
   "metadata": {},
   "outputs": [],
   "source": [
    "w2v = Word2Vec.load('data/w2v/news_200d.bin')\n",
    "model = Lightning.load_from_checkpoint('lightning_logs/exp7_kmean/version_0/checkpoints/epoch=0.ckpt')\n",
    "doc_encoder = model.nrms.doc_encoder\n",
    "w2id = {key: w2v.wv.vocab[key].index for key in w2v.wv.vocab}\n",
    "id2w = {v: k for k, v in w2id.items()}\n"
   ]
  },
  {
   "cell_type": "code",
   "execution_count": 3,
   "metadata": {},
   "outputs": [
    {
     "output_type": "execute_result",
     "data": {
      "text/plain": "[\"accessory, anytime, cmass, battalion, smarts, spear, 311, 'everybody, legislators, 11/9/19\",\n 'shall, streetwise, cnn10, husqvarna, cerabino, superdome, onwuasor, headphone, lookout, rams-steelers',\n 'dowling, 311, shall, husqvarna, cerabino, legislators, onwuasor, headphone, lookout, rams-steelers',\n \"markus, educate, 'corrupt, cursing, spear, jeffersonville, tyrell, saagar, cnn10, apl\",\n 'misinformation, stockholm, chorus, caldwell-pope, pretzel, marking, mixer, peabody, churchill, dowling',\n 'caldwell-pope, charlestown, cnn10, stockholm, marking, gingerly, onwuasor, cerabino, allegan, apl',\n \"leslie, 'ready, cerabino, frenzy, tyrell, onwuasor, filip, scorers, peabody, administrators\",\n 'xhaka, 311, onwuasor, cerabino, apl, legislators, glasgow, saagar, peabody, tyrell',\n 'peabody, chancellor, tyrell, hines, saagar, 11/14, emery, mauldin, streetwise, superdome',\n 'dyson, peabody, os, caldwell-pope, cnn10, rowhome, cmass, stockholm, i-team, marking',\n \"fleming, dowling, churchill, 11/14, 'everybody, emery, mauldin, klopp, gingerly, 11/9/19\",\n '11/14, shall, topgolf, tyrell, rancho, somerville, linval, cooperation, cerabino, onwuasor',\n 'xhaka, peabody, topgolf, glasgow, superdome, 311, trashed, legislators, tyrell, 11/9/19',\n 'administrators, 20k, bayern, augmented, peabody, necessarily, frenzy, chino, deal-hunters, alpinestars',\n 'developmental, somerville, chino, 0-2, headphone, peabody, tyrell, lookout, rams-steelers, apl',\n 'pt, necessarily, fleming, meh, dowling, aquidneck, chino, accessory, 311, legislators',\n 'rowhome, wise, apl, xcloud, dyson, caldwell-pope, marking, deal-hunters, dowling, alpinestars',\n 'sinner, educate, ramon, necessarily, fleming, benedict, meh, 0-2, developmental, chino',\n 'mauldin, 11/14, emery, pt, allegan, accessory, 311, mast, tyrell, legislators',\n 'peabody, rockford, allegan, legislators, dowling, cnn10, fleming, anytime, i-team, administrators',\n 'dangerfield, dowling, misinformation, deal-hunters, meh, necessarily, alpinestars, benedict, 0-2, chino',\n 'marking, atkins, cnn10, adapt, oleksandr, os, developmental, benedict, 0-2, chino',\n \"stockholm, 'florida, fleming, etienne, husqvarna, engineering, shep, headphone, rams-steelers, lookout\",\n 'voit, misinformation, conneaut, educate, mane, dyson, shep, tcs, smarts, administrators',\n 'fisheries, divisive, chancellor, mccray, chorus, educate, tyrell, stockholm, cooperation, misinformation',\n 'trashed, bulldog, engineering, derby, shep, glasgow, streetwise, deal-hunters, superdome, alpinestars',\n 'anytime, chino, glasgow, os, caldwell-pope, tyrell, marking, benedict, stockholm, apl',\n 'caldwell-pope, glasgow, versatility, deal-hunters, alpinestars, wise, fleming, marking, cnn10, dowling',\n 'hines, wawrinka, misinformation, mauldin, 11/14, chancellor, emery, gingerly, fleming, frenzy',\n 'frankfurt, spear, okwara, squares, 3q, designation, cooperation, peabody, levies, interests',\n 'biketoberfest, gingerly, cursing, 11/9/19, dyson, fisheries, 2,900, levies, interests, fleming',\n 'pretzel, kurtz, fulfills, linval, husqvarna, tyrell, headphone, churchill, lookout, rams-steelers',\n 'tcs, tyrell, marking, i-team, cursing, spear, misinformation, superdome, administrators, apl',\n 'lookout, marking, rams-steelers, stockholm, developmental, allegan, benedict, chino, cerabino, onwuasor',\n 'saagar, i-team, superdome, cnn10, 11/14/19, enjeti, hines, mauldin, 11/14, emery',\n 'alpinestars, frenzy, onwuasor, cursing, 11/14/19, enjeti, hines, mauldin, 11/14, emery',\n 'agusta, bulldog, detours, glasgow, buries, 311, legislators, shall, cerabino, onwuasor',\n 'developmental, meh, accessory, legislators, necessarily, wright-patt, dangerfield, benedict, 0-2, chino',\n 'richland, marking, novant, mixer, dyson, churchill, chairs, 11/9/19, glasgow, linval',\n 'tcs, hines, pretzel, mauldin, 11/14, emery, jcpenney, trashed, streetwise, superdome',\n \"'corrupt, conneaut, marking, smarts, streetwise, superdome, linval, cnn10, dowling, somerville\",\n '11/14, emery, mauldin, buries, accessory, streetwise, 311, superdome, dowling, legislators',\n \"'corrupt, come-from-behind, wright-patt, superdome, lipscomb, wise, tammany, cnn10, alpinestars, mast\",\n 'legislators, hines, e-cigs, mauldin, 11/14, emery, trashed, 11/9/19, streetwise, superdome',\n 'fleming, gingerly, 311, xhaka, alpinestars, allegan, anytime, chorus, legislators, tyrell',\n 'oleksandr, hines, mauldin, 11/14, emery, dowling, husqvarna, headphone, rams-steelers, lookout',\n \"tcs, boogeymen, mast, 'corrupt, bothered, trashed, dowling, bublé, streetwise, superdome\",\n 'mauldin, 11/14/19, emery, 11/14, chairs, apl, novant, linval, legislators, glasgow',\n '230, 11/14, emery, tyrell, 3q, wise, legislators, gingerly, fleming, allegan',\n 'caldwell-pope, spear, tyrell, benedict, cerabino, shall, chino, marking, onwuasor, 0-2']"
     },
     "metadata": {},
     "execution_count": 3
    }
   ],
   "source": [
    "N = 10\n",
    "result = []\n",
    "projs = doc_encoder.get_ae_aspects()\n",
    "for j, (proj, idx) in enumerate(zip(*projs)):\n",
    "    idx = idx[-N:].detach().cpu().numpy()\n",
    "    words = ', '.join([id2w[i] for i in idx])\n",
    "    result.append(words)\n",
    "result"
   ]
  },
  {
   "cell_type": "code",
   "execution_count": 4,
   "metadata": {},
   "outputs": [],
   "source": [
    "doc_encoder = model.nrms.doc_encoder"
   ]
  },
  {
   "cell_type": "code",
   "execution_count": 5,
   "metadata": {},
   "outputs": [
    {
     "output_type": "execute_result",
     "data": {
      "text/plain": "tensor([   31, 10810,   241,     1,    32,  8881,    67,  4443,    12,   148,\n         1089,    12])"
     },
     "metadata": {},
     "execution_count": 5
    }
   ],
   "source": [
    "title = 'Best PS5 games : top PlayStation 5 titles to look forward to'.split()\n",
    "idx = torch.tensor([w2id.get(w.lower(), 0) for w in title])\n",
    "idx"
   ]
  },
  {
   "cell_type": "code",
   "execution_count": 6,
   "metadata": {},
   "outputs": [],
   "source": [
    "o, score, _ = doc_encoder(idx.unsqueeze(0), False)\n",
    "score = score.squeeze().detach().tolist()"
   ]
  },
  {
   "cell_type": "code",
   "execution_count": 7,
   "metadata": {},
   "outputs": [
    {
     "output_type": "execute_result",
     "data": {
      "text/plain": "[('Best', 0.07582545280456543),\n ('PS5', 0.11388859897851944),\n ('games', 0.1108662486076355),\n (':', 0.0679372176527977),\n ('top', 0.08917580544948578),\n ('PlayStation', 0.08669701218605042),\n ('5', 0.10396092385053635),\n ('titles', 0.08928592503070831),\n ('to', 0.030614886432886124),\n ('look', 0.10592625290155411),\n ('forward', 0.0855594351887703),\n ('to', 0.04026225954294205)]"
     },
     "metadata": {},
     "execution_count": 7
    }
   ],
   "source": [
    "list(zip(title, score))"
   ]
  },
  {
   "cell_type": "code",
   "execution_count": 8,
   "metadata": {},
   "outputs": [
    {
     "output_type": "execute_result",
     "data": {
      "text/plain": "[('US', 0.0858328640460968),\n ('president', 0.0758572444319725),\n ('backpedals', 0.06443890929222107),\n ('on', 0.11488490551710129),\n ('meeting', 0.07776381820440292),\n ('parents', 0.08054882287979126),\n ('of', 0.09722773730754852),\n ('children', 0.0674239918589592),\n ('killed', 0.08062224090099335),\n ('by', 0.11293116211891174),\n ('recalled', 0.07033807039260864),\n ('dressers', 0.07213034480810165)]"
     },
     "metadata": {},
     "execution_count": 8
    }
   ],
   "source": [
    "title = 'US president backpedals on meeting parents of children killed by recalled dressers'.split()\n",
    "idx = torch.tensor([w2id.get(w.lower(), 0) for w in title])\n",
    "o, score, _ = doc_encoder(idx.unsqueeze(0), False)\n",
    "score = score.squeeze().detach().tolist()\n",
    "list(zip(title, score))"
   ]
  },
  {
   "cell_type": "code",
   "execution_count": 4,
   "metadata": {
    "tags": []
   },
   "outputs": [],
   "source": [
    "import pandas as pd\n",
    "news_df = pd.read_csv('data/small_dev/news.tsv', sep='\\t', header=None)\n",
    "news_df.columns = ['news_id', 'category', 'sub_category', 'title', 'abstract', 'url', 'title_entity', 'abstract_entity']\n",
    "        \n"
   ]
  },
  {
   "cell_type": "code",
   "execution_count": 7,
   "metadata": {},
   "outputs": [
    {
     "output_type": "execute_result",
     "data": {
      "text/plain": "[&#39;Today in History: November 2&#39;,\n &quot;25 Photos of the Royal Family at Balmoral Castle, Queen Elizabeth&#39;s Favorite Home&quot;,\n &#39;These Cranberry Sauce Recipes Are Perfect for Thanksgiving Dinner&#39;,\n &#39;Phil Fulmer blasts NCAA after key Tennessee freshman denied eligibility&#39;,\n &quot;Prince George&#39;s Royal Life in Photos&quot;,\n &#39;Can you answer these real Jeopardy questions about TV shows?&#39;,\n &quot;Randall&#39;s Rant: Is Tiger already the GOAT without 18 majors?&quot;,\n &#39;The 25 most desirable places to live in the US in 2019&#39;,\n &quot;40+ Stuffed Pasta Recipes You&#39;ll Want To Make Every Night&quot;,\n &quot;&#39;Bachelor&#39;s Amanda Stanton Is Dating &#39;Rich Kids of Beverly Hills&#39; Star Brendan Fitzpatrick&quot;,\n &quot;I&#39;m Sorry, But Please Do Not Put Your Purse On My Couch&quot;,\n &quot;It&#39;s Not All About the Corgis - Here Are the Royal Family&#39;s Other Beloved Pets&quot;,\n &#39;2020 Toyota Supra GT4 details announced, makes 429 horsepower&#39;,\n &#39;21 Things No One Ever Tells You About Being a Step-Parent&#39;,\n &quot;Tim Burton&#39;s Original Art Is on Display at the Neon Museum in Las Vegas&quot;,\n &quot;16 Live-Action Disney Movies in the Works After &#39;Maleficent: Mistress of Evil&#39; (Photos)&quot;,\n &quot;Can you really get banned from Amazon? Here&#39;s what you need to know&quot;,\n &#39;100 Genius Tips that Will Make Your Holidays So Much Better&#39;,\n &#39;Millennials are killing purse sales and replacing them with backpacks&#39;,\n &quot;23 Things Car Dealerships Don&#39;t Want You To Know&quot;,\n &#39;Locked On Suns Wednesday: Suns blast Kings to begin 2019-20 season&#39;,\n &#39;Best Xbox One games 2019: awesome Xbox games to play&#39;,\n &quot;TV shows we&#39;re most excited about for the rest of the year&quot;,\n &#39;The Democratic candidates who want to face Trump&#39;,\n &#39;The Absolute Best One-piece Bathing Suits of 2019&#39;,\n &#39;40 Things I Wish I Could Tell My Younger Self&#39;,\n &#39;Why Is This Weird Chevy Colorado Test Mule Trolling Ford HQ?&#39;,\n &#39;20 Words and Phrases You Had No Idea Were Coined in New York City&#39;,\n &#39;PCC Community Markets Plans Its First Fast Casual Restaurant Inside New Ballard Store&#39;,\n &#39;Where to Find a Good, Cheap Sandwich in Every State&#39;]"
     },
     "metadata": {},
     "execution_count": 7
    }
   ],
   "source": [
    "list(news_df['title'][50:80])"
   ]
  },
  {
   "cell_type": "code",
   "execution_count": null,
   "metadata": {},
   "outputs": [],
   "source": []
  }
 ]
}