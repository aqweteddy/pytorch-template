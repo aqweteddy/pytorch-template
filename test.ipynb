{
 "metadata": {
  "language_info": {
   "codemirror_mode": {
    "name": "ipython",
    "version": 3
   },
   "file_extension": ".py",
   "mimetype": "text/x-python",
   "name": "python",
   "nbconvert_exporter": "python",
   "pygments_lexer": "ipython3",
   "version": "3.7.7-final"
  },
  "orig_nbformat": 2,
  "kernelspec": {
   "name": "python_defaultSpec_1601017046694",
   "display_name": "Python 3.7.7 64-bit ('torch': conda)"
  }
 },
 "nbformat": 4,
 "nbformat_minor": 2,
 "cells": [
  {
   "cell_type": "code",
   "execution_count": 1,
   "metadata": {},
   "outputs": [],
   "source": [
    "import torch\n",
    "import pytorch_lightning as pl\n",
    "import numpy as np\n",
    "from gensim.models import Word2Vec\n",
    "from train import Lightning"
   ]
  },
  {
   "cell_type": "code",
   "execution_count": 5,
   "metadata": {},
   "outputs": [],
   "source": [
    "w2v = Word2Vec.load('data/w2v/news_200d.bin')\n",
    "model = Lightning.load_from_checkpoint('lightning_logs/exp4_alpha/version_7/checkpoints/epoch=0.ckpt')\n",
    "asp_embed = model.nrms.doc_encoder.autoencoder.aspect_embed.weight\n"
   ]
  },
  {
   "cell_type": "code",
   "execution_count": 6,
   "metadata": {},
   "outputs": [
    {
     "output_type": "execute_result",
     "data": {
      "text/plain": "(50, 200)"
     },
     "metadata": {},
     "execution_count": 6
    }
   ],
   "source": [
    "asp_embed = asp_embed.detach().numpy()\n",
    "asp_embed.shape"
   ]
  },
  {
   "cell_type": "code",
   "execution_count": 7,
   "metadata": {
    "tags": []
   },
   "outputs": [
    {
     "output_type": "stream",
     "name": "stdout",
     "text": "['battling', 'joaquin', 'mateo', 'employee', 'donates', 'at', 'stole', 'parking', 'samaritan', 'jefferson']\n['to', 'will', 'can', 'changes', 'students', 'needs', 'rules', 'businesses', 'may', 'plans']\n['emergency', 'gas', 'air', 'smoke', 'prescribed', 'forest', 'drone', 'space', 'crashes', 'water']\n['vehicular', 'esplanade', 'called', 'assault', 'alleged', 'pleaded', 'aggravated', 'burglary', 'alligator', 'sought']\n['fan', 'tin', 'energy', 'trail', 'cbsn', 'singer', 'home-and-home', 'country', \"'\", 'wallethub']\n['strike', 'companies', 'schools', 'hatton', 'americans', 'transit', 'money', 'workers', 'teachers', 'students']\n['fight', 'shots', 'ufc', 'survivor', 'brown', 'walker', 'arrest', 'interest', 'mma', 'fonda']\n['monday', 'thursday', 'sacramento', 'kalamazoo', 'wednesday', 'dayton', 'sunday', 'shuttered', 'middle', 'arlington']\n['abuse', '450,000', 'wife', 'husband', 'fonda', 'cancer', 'patient', 'son', 'given', 'girlfriend']\n['ratings', 'wallethub', 'scouting', 'county', 'texans-colts', 'times', 'card', 'minnesota', 'counties', 'ohio']\n['how', 'anyone', 'ira', 'long-term', 'ways', 'expenses', 'google', 'healthy', 'better', 'bigger']\n['awards', 'royals', 'baseball', 'espn', 'cma', 'bellator', 'mlb', 'finalists', 'winners', '2019']\n['bill', '300th', 'semester', 'highest', 'first', 'maryland', 'entire', 'shelby', 'clover', 'super']\n['flu', 'heart', \"'it\", 'halloween', 'it', 'babies', 'career', 'back', 'k9s', 'dad']\n['?', 'so', 'fun', 'fast', 'way', 'actually', 'experts', 'bad', 'phrases', 'able']\n[\"'illegal\", 'chase', 'chickillo', 'reserve', 'following', 'ishmael', ';', 'st.', 'cromartie', 'two']\n['%', 'low', 'major', 'lose', 'drop', 'slow', 'mph', 'semester', 'pieces', 'tropical']\n['go', 'right', 'survive', 'happens', 'mean', 'adopt', 'available', 'domowitch', 'muschick', 'much']\n['may', \"'ll\", 'must', 'might', 'could', '?', 'experts', \"n't\", 'eu', 'republicans']\n['agency', 'deal', 'sign-stealing', 'welcome', 'gm', 'offer', 'strasburg', '+', 'gives', 'base']\n['of', 'ca', \"'do\", 'crime', 'wo', 'racism', 'cleveland.com', 'controversies', 'post', 'crimes']\n['netflix', 'be', 'house', 'stop', 'door', 'or', 'president', 'way', 'secret', 'on']\n['the', 'places', 'popular', 'is', 'america', 'spots', 'destinations', 'ranks', 'ranking', 'annual']\n['uganda', 'hurt', 'shootings', 'alive', 'starters', 'connected', 'times', 'seriously', 'shooting', 'others']\n['mystery', 'pistol-whipped', 'opened', 'oldest', 'nightclub', 'donut', 'before-and-after', \"'miracle\", 'cart', 'outer']\n['lgbtq', 'aid', 'committee', 'government', 'religious', 'orders', 'protest', 'congresswoman', 'campaigns', 'greta']\n['sued', 'owns', 'removes', 'fought', 'steal', 'admits', 'owned', 'beth', 'beret', 'intercepted']\n['white', \"'we\", \"'was\", 'i', \"'you\", 'kurt', 'grinch', \"'surprised\", 'gerrit', 'defend']\n['a', 'an', 'with', 'warcraft', 'out', 'r', 'cheese', 'stars', 'room', 'kfc']\n['this', 'why', 'wrong', 'was', 'happened', \"'s\", 'like', 'just', 'ask', 'a']\n['76ers', 'heading', 'bolden', 'timberwolves', '38-20', 'britt', 'watt', 'versus', 'breakout', 'disappointing']\n['doctor', 'money', 'cancer', 'life', 'woman', 'prison', 'kids', 'couple', 'help', 'someone']\n['making', 'changed', 'will', 'color', 'style', 'different', 'loves', 'reason', 'forgot', 'ended']\n['protests', 'iraq', 'mexico', 'chaos', 'death', 'memorial', 'leader', 'attack', 'amid', 'border']\n['hour', ')', '24', 'later', 'oct.', 'cdt', 'slower', 'ago', 'hospital', '2']\n['ultimate', 'costume', 'brotherly', 'hallmark', 'fashion', 'incredible', 'costumes', 'celebrity', 'hottest', 'meal']\n['scores', ',', 'victory', '45-14', 'county', 'cup', 'nascar', 'rockets', 'diego', 'lifts']\n['aac', 'gubernatorial', 'democratic', 'bid', 'mayoral', 'presidential', 'beshear', 'lpga', 'governor', 'runoff']\n['features', 'plant-based', 'dishes', '25', 'drinks', 'style', 'earnings', 'reveals', 'tier', 'apps']\n['state', 'university', 'schooler', 'betting', 'msu', 'pass', 'live', 'party', 'northern', 'transfer']\n['vuitton', 'pete', 'cromartie', 'de', 'tammany', 'lead', 'corbett', 'austin', 'mayoral', 'petersburg']\n['loss', 'place', 'small', 'ship', 'enthusiasm', 'sea', 'goes', 'rehabbing', 'ride', 'be']\n['selena', 'bottle', 'his', 'spied', 'shared', 'electric', 'camaro', 'kardashian', '1967', 'gomez']\n['tv', 'plus', 'good', 'today', '-', 'fun', 'falcoholinks', 'streaming', 'things', 'broadcasters']\n['new', 'toward', 'third', 'set', 'fourth', '300th', 'lead', 'expects', '1st', 'rock']\n['nationals', 'bulls', 'bears', 'kerry', 'creech', 'pedro', 'juan', 'suns', 'cowboys', 'lafc']\n['five', 'nittany', 'tampa', '2', '24', '6', 'for', 'vs', '7', '.']\n['supt', 'sgt', 'del', 'fmr', 'twp', 'eddie', 'det', 'co', 'sens', 'cpd']\n['makes', 'looms', 'breaks', 'despite', 'potential', 'all-female', 'global', 'expected', 'monster', 'gms']\n['go', 'put', 'path', 'long', 'turn', 'again', 'nowhere', 'mean', 'detroit', 'roar']\n"
    }
   ],
   "source": [
    "for emb in asp_embed:\n",
    "    ws = w2v.most_similar(positive=[emb], topn=10)\n",
    "    ws = [w[0] for w in ws]\n",
    "    print(ws)"
   ]
  },
  {
   "cell_type": "code",
   "execution_count": null,
   "metadata": {},
   "outputs": [],
   "source": []
  }
 ]
}