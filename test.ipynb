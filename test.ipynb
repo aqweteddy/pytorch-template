{
 "metadata": {
  "language_info": {
   "codemirror_mode": {
    "name": "ipython",
    "version": 3
   },
   "file_extension": ".py",
   "mimetype": "text/x-python",
   "name": "python",
   "nbconvert_exporter": "python",
   "pygments_lexer": "ipython3",
   "version": "3.7.7-final"
  },
  "orig_nbformat": 2,
  "kernelspec": {
   "name": "Python 3.7.7 64-bit ('torch': conda)",
   "display_name": "Python 3.7.7 64-bit ('torch': conda)",
   "metadata": {
    "interpreter": {
     "hash": "f6c046d2d20156e753d084b23aa67427b62929592bcd9a1d0fa29829df17b11c"
    }
   }
  }
 },
 "nbformat": 4,
 "nbformat_minor": 2,
 "cells": [
  {
   "cell_type": "code",
   "execution_count": 1,
   "metadata": {},
   "outputs": [],
   "source": [
    "import torch\n",
    "import pytorch_lightning as pl\n",
    "import numpy as np\n",
    "from gensim.models import Word2Vec\n",
    "from train import Lightning"
   ]
  },
  {
   "cell_type": "code",
   "execution_count": 2,
   "metadata": {},
   "outputs": [],
   "source": [
    "w2v = Word2Vec.load('data/w2v/news_200d_small.bin')\n",
    "model = Lightning.load_from_checkpoint('lightning_logs/final/version_1/checkpoints/epoch=0.ckpt')\n",
    "doc_encoder = model.nrms.doc_encoder\n",
    "w2id = {key: w2v.wv.vocab[key].index for key in w2v.wv.vocab}\n",
    "id2w = {v: k for k, v in w2id.items()}\n"
   ]
  },
  {
   "cell_type": "code",
   "execution_count": 3,
   "metadata": {},
   "outputs": [
    {
     "output_type": "execute_result",
     "data": {
      "text/plain": "[&#39;inquiry, republicans, gop, white, democrats, house, greenwood, mariner, trump, ,&#39;,\n &#39;buy, might, able, keep, like, money, spend, actually, dpw, ,&#39;,\n &#39;gm, anthony, nets, nationals, max, ball, astros, creighton, ,, loophole&#39;,\n &#39;father, dies, rogers, southside, sister, accident, victories, dpw, 90th, ,&#39;,\n &#39;officer, investigate, investigating, protesters, chief, interviewing, seek, murfreesboro, say, ,&#39;,\n &#39;republican, council, hold, sources, latest, attorney, general, omar, mayor, interviewing&#39;,\n &#39;statewide, next, its, the, avondale, your, every, an, a, this&#39;,\n &#39;nyc, mayor, grand, teachers, greenwood, chicago, veterans, strike, ,, murfreesboro&#39;,\n &#39;weather, forecast, tuesday, today, trailer, november, october, 90th, ,, live&#39;,\n &#39;qb, lions, ufc, motivated, chirinos, injury, awaiting, 1.6m, estes, marina&#39;,\n &#39;rush, expected, contract, :, per, likely, deadline, injury, says, ,&#39;,\n &#39;truth, room, process, selena, there, mariner, ,, behind, handicapped, interviewing&#39;,\n &#39;houses, dishes, common, milk, find, products, foods, nj, average, ,&#39;,\n &#39;area, due, lunch, bus, closings, district, students, board, middle, high&#39;,\n &#39;wildfire, unicorn, yard, ordered, digits, assistance, uofl, loophole, interviewing, mlk&#39;,\n &#39;being, at, life, victories, dog, daughter, rd, boy, ,, estes&#39;,\n &#39;killed, officials, greenwood, authorities, hoboken, loophole, police, iv, ,, interviewing&#39;,\n &#39;break, make, working, up, be, will, use, without, save, ,&#39;,\n &#39;bars, 35, food, 32, shopping, places, popular, restaurants, spot, ,&#39;,\n &#39;involving, suspects, charged, reported, seriously, deadly, following, fatal, accident, 39&#39;,\n &#39;davis, anthony, eagles, patrick, cam, redskins, knee, packers, practice, ,&#39;,\n &quot;&#39;they, know, want, help, get, right, enough, can, mean, need&quot;,\n &#39;alcs, cup, creighton, game, washington, record, astros, nationals, series, dpw&#39;,\n &#39;one, royal, celebrate, american, awards, speakers, show, choice, estes, world&#39;,\n &#39;pay, lost, %, pounds, nearly, billion, years, estes, million, $&#39;,\n &#39;buzbee, pad, kensington, chill, mattis, archbishop, hagan, met, ,, estes&#39;,\n &#39;near, crashes, east, north, coast, road, northeast, falls, hits, ,&#39;,\n &#39;discipline, loudest, wife, dangerously, 2-year-old, earned, raheem, ,, 53-man, estes&#39;,\n &#39;suns, predictions, vikings, falcons, players, canelo, minnesota, beat, loophole, interviewing&#39;,\n &#39;trey, ,, enjoys, cope, unofficial, stares, sour, politician, cooler, lobbying&#39;,\n &#39;claims, ,, supreme, plans, lawyer, taxes, legal, adviser, smaller, draws&#39;,\n &#39;andy, jets, star, marina, theo, reportedly, swift, cubs, estes, ,&#39;,\n &quot;&#39;it, &#39;we, fans, happy, harry, contestant, &#39;the, feel, talk, mariner&quot;,\n &#39;memphis, wins, playoff, mlk, midseason, sustainable, coaches, finals, digits, murfreesboro&#39;,\n &#39;rankings, opinion, bye, week, list, nfl, rumors, bold, deadline, opinions&#39;,\n &#39;coaches, scandal, student, women, dpw, basketball, football, college, 90th, speakers&#39;,\n &#39;thoughts, career, tagovailoa, arsenal, cy, schedule, zozo, sustainable, third, ,&#39;,\n &#39;1, part, women, sexiest, country, soccer, dead, men, no, one&#39;,\n &#39;wave, hits, hotel, labor, bottle, mansion, celebrates, shows, sets, ,&#39;,\n &#39;plans, legal, complaint, supreme, general, border, protest, court, speakers, ,&#39;,\n &#39;county, fatally, apartment, cocaine, station, burned, teens, near, ,, firefighters&#39;,\n &#39;tennessee, carolina, ,, colorado, arizona, florida, penn, ohio, michigan, iowa&#39;,\n &#39;charges, isis, kill, cop, armed, drug, brother, trafficking, ,, estes&#39;,\n &#39;accident, flames, crash, fire, office, plane, sheriff, pedestrian, vehicle, ,&#39;,\n &#39;report, brown, sustainable, headphones, manager, trent, williams, harden, 40-man, digits&#39;,\n &#39;jordan, adam, comments, criticism, despite, 40-man, taylor, ,, digits, mlk&#39;,\n &#39;gravy, holiday, nov., weekly, lexington, digits, november, october, fabbri, ,&#39;,\n &#39;fire, slow, traffic, county, closures, advisory, along, storm, tornado, ,&#39;,\n &quot;were, they, murfreesboro, ca, be, &#39;&#39;, that, their, have, ,&quot;,\n &#39;accused, shooting, charged, marina, police, 1.6m, immunity, arrested, estes, ,&#39;]"
     },
     "metadata": {},
     "execution_count": 3
    }
   ],
   "source": []
  },
  {
   "cell_type": "code",
   "execution_count": 3,
   "metadata": {},
   "outputs": [],
   "source": [
    "doc_encoder = model.nrms.doc_encoder"
   ]
  },
  {
   "cell_type": "code",
   "execution_count": 4,
   "metadata": {},
   "outputs": [],
   "source": [
    "# -*- coding: utf-8 -*-\n",
    "# @Author: Jie Yang\n",
    "# @Date:   2019-03-29 16:10:23\n",
    "# @Last Modified by:   Jie Yang,     Contact: jieynlp@gmail.com\n",
    "# @Last Modified time: 2019-04-12 09:56:12\n",
    "\n",
    "\n",
    "## convert the text/attention list to latex code, which will further generates the text heatmap based on attention weights.\n",
    "import numpy as np\n",
    "\n",
    "latex_special_token = [\"!@#$%^&*()\"]\n",
    "\n",
    "def generate(text_list, attention_list, latex_file, color='red', rescale_value = True):\n",
    "\tassert(len(text_list) == len(attention_list))\n",
    "\tif rescale_value:\n",
    "\t\tattention_list = rescale(attention_list)\n",
    "\tword_num = len(text_list)\n",
    "\ttext_list = clean_word(text_list)\n",
    "\twith open(latex_file,'w') as f:\n",
    "\t\tf.write(r'''\\documentclass[varwidth]{standalone}\n",
    "\\special{papersize=210mm,297mm}\n",
    "\\usepackage{color}\n",
    "\\usepackage{tcolorbox}\n",
    "\\usepackage{CJK}\n",
    "\\usepackage{adjustbox}\n",
    "\\tcbset{width=0.9\\textwidth,boxrule=0pt,colback=red,arc=0pt,auto outer arc,left=0pt,right=0pt,boxsep=5pt}\n",
    "\\begin{document}\n",
    "\\begin{CJK*}{UTF8}{gbsn}'''+'\\n')\n",
    "\t\tstring = r'''{\\setlength{\\fboxsep}{0pt}\\colorbox{white!0}{\\parbox{0.9\\textwidth}{'''+\"\\n\"\n",
    "\t\tfor idx in range(word_num):\n",
    "\t\t\tstring += \"\\\\colorbox{%s!%s}{\"%(color, attention_list[idx])+\"\\\\strut \" + text_list[idx]+\"} \"\n",
    "\t\tstring += \"\\n}}}\"\n",
    "\t\tf.write(string+'\\n')\n",
    "\t\tf.write(r'''\\end{CJK*}\n",
    "\\end{document}''')\n",
    "\n",
    "def rescale(input_list):\n",
    "\tthe_array = np.asarray(input_list)\n",
    "\tthe_max = np.max(the_array)\n",
    "\tthe_min = np.min(the_array)\n",
    "\trescale = (the_array - the_min)/(the_max-the_min)*100\n",
    "\treturn rescale.tolist()\n",
    "\n",
    "\n",
    "def clean_word(word_list):\n",
    "\tnew_word_list = []\n",
    "\tfor word in word_list:\n",
    "\t\tfor latex_sensitive in [\"\\\\\", \"%\", \"&\", \"^\", \"#\", \"_\",  \"{\", \"}\"]:\n",
    "\t\t\tif latex_sensitive in word:\n",
    "\t\t\t\tword = word.replace(latex_sensitive, '\\\\'+latex_sensitive)\n",
    "\t\tnew_word_list.append(word)\n",
    "\treturn new_word_list"
   ]
  },
  {
   "cell_type": "code",
   "execution_count": 7,
   "metadata": {
    "tags": []
   },
   "outputs": [
    {
     "output_type": "stream",
     "name": "stdout",
     "text": "11\n"
    }
   ],
   "source": [
    "title = 'Best PS5 games top PlayStation 5 titles to look forward to'.split()\n",
    "print(len(title))\n",
    "idx = torch.tensor([w2id.get(w.lower(), 0) for w in title])\n",
    "o, score, _ = doc_encoder(idx.unsqueeze(0), False)\n",
    "score = score.squeeze().detach()\n",
    "score = score.tolist()\n",
    "generate(title, score, \"AANR.tex\", 'red')"
   ]
  },
  {
   "cell_type": "code",
   "execution_count": 12,
   "metadata": {},
   "outputs": [],
   "source": [
    "title = '100 Genius Tips that Will Make Your Holidays So Much Better'.split()\n",
    "idx = torch.tensor([w2id.get(w.lower(), 0) for w in title])\n",
    "o, score, _ = doc_encoder(idx.unsqueeze(0), False)\n",
    "score = score.squeeze().detach()\n",
    "score = score.tolist()\n",
    "generate(title, score, \"sample.tex\", 'red')"
   ]
  },
  {
   "cell_type": "code",
   "execution_count": 7,
   "metadata": {
    "tags": []
   },
   "outputs": [],
   "source": [
    "\n",
    "        \n"
   ]
  },
  {
   "cell_type": "code",
   "execution_count": 8,
   "metadata": {},
   "outputs": [
    {
     "output_type": "execute_result",
     "data": {
      "text/plain": "[&#39;Today in History: November 2&#39;,\n &quot;25 Photos of the Royal Family at Balmoral Castle, Queen Elizabeth&#39;s Favorite Home&quot;,\n &#39;These Cranberry Sauce Recipes Are Perfect for Thanksgiving Dinner&#39;,\n &#39;Phil Fulmer blasts NCAA after key Tennessee freshman denied eligibility&#39;,\n &quot;Prince George&#39;s Royal Life in Photos&quot;,\n &#39;Can you answer these real Jeopardy questions about TV shows?&#39;,\n &quot;Randall&#39;s Rant: Is Tiger already the GOAT without 18 majors?&quot;,\n &#39;The 25 most desirable places to live in the US in 2019&#39;,\n &quot;40+ Stuffed Pasta Recipes You&#39;ll Want To Make Every Night&quot;,\n &quot;&#39;Bachelor&#39;s Amanda Stanton Is Dating &#39;Rich Kids of Beverly Hills&#39; Star Brendan Fitzpatrick&quot;,\n &quot;I&#39;m Sorry, But Please Do Not Put Your Purse On My Couch&quot;,\n &quot;It&#39;s Not All About the Corgis - Here Are the Royal Family&#39;s Other Beloved Pets&quot;,\n &#39;2020 Toyota Supra GT4 details announced, makes 429 horsepower&#39;,\n &#39;21 Things No One Ever Tells You About Being a Step-Parent&#39;,\n &quot;Tim Burton&#39;s Original Art Is on Display at the Neon Museum in Las Vegas&quot;,\n &quot;16 Live-Action Disney Movies in the Works After &#39;Maleficent: Mistress of Evil&#39; (Photos)&quot;,\n &quot;Can you really get banned from Amazon? Here&#39;s what you need to know&quot;,\n &#39;100 Genius Tips that Will Make Your Holidays So Much Better&#39;,\n &#39;Millennials are killing purse sales and replacing them with backpacks&#39;,\n &quot;23 Things Car Dealerships Don&#39;t Want You To Know&quot;,\n &#39;Locked On Suns Wednesday: Suns blast Kings to begin 2019-20 season&#39;,\n &#39;Best Xbox One games 2019: awesome Xbox games to play&#39;,\n &quot;TV shows we&#39;re most excited about for the rest of the year&quot;,\n &#39;The Democratic candidates who want to face Trump&#39;,\n &#39;The Absolute Best One-piece Bathing Suits of 2019&#39;,\n &#39;40 Things I Wish I Could Tell My Younger Self&#39;,\n &#39;Why Is This Weird Chevy Colorado Test Mule Trolling Ford HQ?&#39;,\n &#39;20 Words and Phrases You Had No Idea Were Coined in New York City&#39;,\n &#39;PCC Community Markets Plans Its First Fast Casual Restaurant Inside New Ballard Store&#39;,\n &#39;Where to Find a Good, Cheap Sandwich in Every State&#39;]"
     },
     "metadata": {},
     "execution_count": 8
    }
   ],
   "source": [
    "import pandas as pd\n",
    "news_df = pd.read_csv('data/small_dev/news.tsv', sep='\\t', header=None)\n",
    "news_df.columns = ['news_id', 'category', 'sub_category', 'title', 'abstract', 'url', 'title_entity', 'abstract_entity']\n",
    "list(news_df['title'][50:80])"
   ]
  },
  {
   "cell_type": "code",
   "execution_count": null,
   "metadata": {},
   "outputs": [],
   "source": []
  }
 ]
}