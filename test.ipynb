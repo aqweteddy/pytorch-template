{
 "metadata": {
  "language_info": {
   "codemirror_mode": {
    "name": "ipython",
    "version": 3
   },
   "file_extension": ".py",
   "mimetype": "text/x-python",
   "name": "python",
   "nbconvert_exporter": "python",
   "pygments_lexer": "ipython3",
   "version": "3.7.7-final"
  },
  "orig_nbformat": 2,
  "kernelspec": {
   "name": "Python 3.7.7 64-bit ('torch': conda)",
   "display_name": "Python 3.7.7 64-bit ('torch': conda)",
   "metadata": {
    "interpreter": {
     "hash": "f6c046d2d20156e753d084b23aa67427b62929592bcd9a1d0fa29829df17b11c"
    }
   }
  }
 },
 "nbformat": 4,
 "nbformat_minor": 2,
 "cells": [
  {
   "cell_type": "code",
   "execution_count": 1,
   "metadata": {},
   "outputs": [],
   "source": [
    "import torch\n",
    "import pytorch_lightning as pl\n",
    "import numpy as np\n",
    "from gensim.models import Word2Vec\n",
    "from train import Lightning"
   ]
  },
  {
   "cell_type": "code",
   "execution_count": 2,
   "metadata": {},
   "outputs": [],
   "source": [
    "w2v = Word2Vec.load('data/w2v/news_200d_small.bin')\n",
    "model = Lightning.load_from_checkpoint('lightning_logs/final/version_2/checkpoints/epoch=1.ckpt')\n",
    "doc_encoder = model.nrms.doc_encoder\n",
    "w2id = {key: w2v.wv.vocab[key].index for key in w2v.wv.vocab}\n",
    "id2w = {v: k for k, v in w2id.items()}\n"
   ]
  },
  {
   "cell_type": "code",
   "execution_count": 3,
   "metadata": {},
   "outputs": [],
   "source": [
    "doc_encoder = model.nrms.doc_encoder"
   ]
  },
  {
   "cell_type": "code",
   "execution_count": 4,
   "metadata": {},
   "outputs": [],
   "source": [
    "# -*- coding: utf-8 -*-\n",
    "# @Author: Jie Yang\n",
    "# @Date:   2019-03-29 16:10:23\n",
    "# @Last Modified by:   Jie Yang,     Contact: jieynlp@gmail.com\n",
    "# @Last Modified time: 2019-04-12 09:56:12\n",
    "\n",
    "\n",
    "## convert the text/attention list to latex code, which will further generates the text heatmap based on attention weights.\n",
    "import numpy as np\n",
    "\n",
    "latex_special_token = [\"!@#$%^&*()\"]\n",
    "\n",
    "def generate(text_list, attention_list, latex_file, color='red', rescale_value = True):\n",
    "\tassert(len(text_list) == len(attention_list))\n",
    "\tif rescale_value:\n",
    "\t\tattention_list = rescale(attention_list)\n",
    "\tword_num = len(text_list)\n",
    "\ttext_list = clean_word(text_list)\n",
    "\twith open(latex_file,'w') as f:\n",
    "\t\tf.write(r'''\\documentclass[varwidth]{standalone}\n",
    "\\special{papersize=210mm,297mm}\n",
    "\\usepackage{color}\n",
    "\\usepackage{tcolorbox}\n",
    "\\usepackage{CJK}\n",
    "\\usepackage{adjustbox}\n",
    "\\tcbset{width=0.9\\textwidth,boxrule=0pt,colback=red,arc=0pt,auto outer arc,left=0pt,right=0pt,boxsep=5pt}\n",
    "\\begin{document}\n",
    "\\begin{CJK*}{UTF8}{gbsn}'''+'\\n')\n",
    "\t\tstring = r'''{\\setlength{\\fboxsep}{0pt}\\colorbox{white!0}{\\parbox{0.9\\textwidth}{'''+\"\\n\"\n",
    "\t\tfor idx in range(word_num):\n",
    "\t\t\tstring += \"\\\\colorbox{%s!%s}{\"%(color, attention_list[idx])+\"\\\\strut \" + text_list[idx]+\"} \"\n",
    "\t\tstring += \"\\n}}}\"\n",
    "\t\tf.write(string+'\\n')\n",
    "\t\tf.write(r'''\\end{CJK*}\n",
    "\\end{document}''')\n",
    "\n",
    "def rescale(input_list):\n",
    "\tthe_array = np.asarray(input_list)\n",
    "\tthe_max = np.max(the_array)\n",
    "\tthe_min = np.min(the_array)\n",
    "\trescale = (the_array - the_min)/(the_max-the_min)*100\n",
    "\treturn rescale.tolist()\n",
    "\n",
    "\n",
    "def clean_word(word_list):\n",
    "\tnew_word_list = []\n",
    "\tfor word in word_list:\n",
    "\t\tfor latex_sensitive in [\"\\\\\", \"%\", \"&\", \"^\", \"#\", \"_\",  \"{\", \"}\"]:\n",
    "\t\t\tif latex_sensitive in word:\n",
    "\t\t\t\tword = word.replace(latex_sensitive, '\\\\'+latex_sensitive)\n",
    "\t\tnew_word_list.append(word)\n",
    "\treturn new_word_list"
   ]
  },
  {
   "cell_type": "code",
   "execution_count": 5,
   "metadata": {
    "tags": []
   },
   "outputs": [],
   "source": [
    "title = 'Best PS5 games top PlayStation 5 titles to look forward to'.split()\n",
    "idx = torch.tensor([w2id.get(w.lower(), 0) for w in title])\n",
    "o, score,_ = doc_encoder(idx.unsqueeze(0))\n",
    "score = score.squeeze().detach()\n",
    "score = score.tolist()\n",
    "generate(title, score, \"AANR.tex\", 'red')"
   ]
  },
  {
   "cell_type": "code",
   "execution_count": 6,
   "metadata": {},
   "outputs": [],
   "source": [
    "title = '100 Genius Tips that Will Make Your Holidays So Much Better'.split()\n",
    "idx = torch.tensor([w2id.get(w.lower(), 0) for w in title])\n",
    "o, score= doc_encoder(idx.unsqueeze(0))\n",
    "score = score.squeeze().detach()\n",
    "score = score.tolist()\n",
    "generate(title, score, \"sample.tex\", 'red')"
   ]
  },
  {
   "cell_type": "code",
   "execution_count": 6,
   "metadata": {
    "tags": []
   },
   "outputs": [],
   "source": [
    "\n",
    "        \n"
   ]
  },
  {
   "cell_type": "code",
   "execution_count": 7,
   "metadata": {},
   "outputs": [
    {
     "output_type": "execute_result",
     "data": {
      "text/plain": "[&#39;Today in History: November 2&#39;,\n &quot;25 Photos of the Royal Family at Balmoral Castle, Queen Elizabeth&#39;s Favorite Home&quot;,\n &#39;These Cranberry Sauce Recipes Are Perfect for Thanksgiving Dinner&#39;,\n &#39;Phil Fulmer blasts NCAA after key Tennessee freshman denied eligibility&#39;,\n &quot;Prince George&#39;s Royal Life in Photos&quot;,\n &#39;Can you answer these real Jeopardy questions about TV shows?&#39;,\n &quot;Randall&#39;s Rant: Is Tiger already the GOAT without 18 majors?&quot;,\n &#39;The 25 most desirable places to live in the US in 2019&#39;,\n &quot;40+ Stuffed Pasta Recipes You&#39;ll Want To Make Every Night&quot;,\n &quot;&#39;Bachelor&#39;s Amanda Stanton Is Dating &#39;Rich Kids of Beverly Hills&#39; Star Brendan Fitzpatrick&quot;,\n &quot;I&#39;m Sorry, But Please Do Not Put Your Purse On My Couch&quot;,\n &quot;It&#39;s Not All About the Corgis - Here Are the Royal Family&#39;s Other Beloved Pets&quot;,\n &#39;2020 Toyota Supra GT4 details announced, makes 429 horsepower&#39;,\n &#39;21 Things No One Ever Tells You About Being a Step-Parent&#39;,\n &quot;Tim Burton&#39;s Original Art Is on Display at the Neon Museum in Las Vegas&quot;,\n &quot;16 Live-Action Disney Movies in the Works After &#39;Maleficent: Mistress of Evil&#39; (Photos)&quot;,\n &quot;Can you really get banned from Amazon? Here&#39;s what you need to know&quot;,\n &#39;100 Genius Tips that Will Make Your Holidays So Much Better&#39;,\n &#39;Millennials are killing purse sales and replacing them with backpacks&#39;,\n &quot;23 Things Car Dealerships Don&#39;t Want You To Know&quot;,\n &#39;Locked On Suns Wednesday: Suns blast Kings to begin 2019-20 season&#39;,\n &#39;Best Xbox One games 2019: awesome Xbox games to play&#39;,\n &quot;TV shows we&#39;re most excited about for the rest of the year&quot;,\n &#39;The Democratic candidates who want to face Trump&#39;,\n &#39;The Absolute Best One-piece Bathing Suits of 2019&#39;,\n &#39;40 Things I Wish I Could Tell My Younger Self&#39;,\n &#39;Why Is This Weird Chevy Colorado Test Mule Trolling Ford HQ?&#39;,\n &#39;20 Words and Phrases You Had No Idea Were Coined in New York City&#39;,\n &#39;PCC Community Markets Plans Its First Fast Casual Restaurant Inside New Ballard Store&#39;,\n &#39;Where to Find a Good, Cheap Sandwich in Every State&#39;]"
     },
     "metadata": {},
     "execution_count": 7
    }
   ],
   "source": [
    "import pandas as pd\n",
    "news_df = pd.read_csv('data/small_dev/news.tsv', sep='\\t', header=None)\n",
    "news_df.columns = ['news_id', 'category', 'sub_category', 'title', 'abstract', 'url', 'title_entity', 'abstract_entity']\n",
    "list(news_df['title'][50:80])"
   ]
  },
  {
   "cell_type": "code",
   "execution_count": null,
   "metadata": {},
   "outputs": [],
   "source": []
  }
 ]
}