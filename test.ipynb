{
 "metadata": {
  "language_info": {
   "codemirror_mode": {
    "name": "ipython",
    "version": 3
   },
   "file_extension": ".py",
   "mimetype": "text/x-python",
   "name": "python",
   "nbconvert_exporter": "python",
   "pygments_lexer": "ipython3",
   "version": "3.7.7-final"
  },
  "orig_nbformat": 2,
  "kernelspec": {
   "name": "python_defaultSpec_1601138600926",
   "display_name": "Python 3.7.7 64-bit",
   "metadata": {
    "interpreter": {
     "hash": "f6c046d2d20156e753d084b23aa67427b62929592bcd9a1d0fa29829df17b11c"
    }
   }
  }
 },
 "nbformat": 4,
 "nbformat_minor": 2,
 "cells": [
  {
   "cell_type": "code",
   "execution_count": 1,
   "metadata": {},
   "outputs": [],
   "source": [
    "import torch\n",
    "import pytorch_lightning as pl\n",
    "import numpy as np\n",
    "from gensim.models import Word2Vec\n",
    "from train import Lightning"
   ]
  },
  {
   "cell_type": "code",
   "execution_count": 2,
   "metadata": {},
   "outputs": [],
   "source": [
    "w2v = Word2Vec.load('data/w2v/news_200d.bin')\n",
    "model = Lightning.load_from_checkpoint('lightning_logs/exp1_user_arch/version_0/checkpoints/epoch=0.ckpt')\n",
    "doc_encoder = model.nrms.doc_encoder\n",
    "w2id = {key: w2v.wv.vocab[key].index for key in w2v.wv.vocab}\n",
    "id2w = {v: k for k, v in w2id.items()}\n"
   ]
  },
  {
   "cell_type": "code",
   "execution_count": 3,
   "metadata": {},
   "outputs": [
    {
     "output_type": "execute_result",
     "data": {
      "text/plain": "['3q, wynwood, usl, suggestions, kiermaier, click, leaps, anti-government, colony, buries',\n 'entrepreneurs, fulfillment, 115-99, vettel, fisheries, zimmer, politi, charlestown, 8-game, parades',\n \"3,400, wynwood, 3q, marking, fleming, badin, 'ready, parades, versatility, allegan\",\n \"'better, agusta, markus, tyrell, pahokee, shep, mv, gyms, gale, sielski\",\n 'click, gyms, accessory, holdings, kiermaier, binghamton, gale, uaw-gm, alpinestars, x-rays',\n '115-99, click, allegan, mv, gyms, nicholls, binghamton, 65-yard, heinz, salads',\n 'sielski, mv, marking, gyms, anti-government, barbershop, severino, zimmer, politi, allegan',\n \"doritos, 'fox, owen, lorain, usl, 112-106, no-call, buries, parades, binghamton\",\n 'tfc, u-17, anti-government, 115-99, 112-106, aquidneck, ellum, pt, holdings, fleming',\n \"ellum, badin, workshop, 'ready, pt, gale, borough-based, kiermaier, allegan, versatility\",\n 'allegan, xhaka, seizes, parades, anti-government, 65-yard, mane, broadcasters, 3q, fleming',\n 'holdings, ellum, spruce, doritos, tfc, 65-yard, lotto, 3q, wynwood, allegan',\n \"broadcasters, gale, seizes, binghamton, tfc, salads, badin, gyms, 3q, 'ready\",\n \"lafd, 'ready, salads, gyms, 2-2, pahokee, biketoberfest, 65-yard, fleming, parades\",\n 'okwara, breida, plowing, click, nxt, u-17, heinz, fleming, 115-99, pahokee',\n '3q, champlin, shrine, fisheries, wynwood, spruce, 65-yard, gyms, gale, 112-106',\n \"lorain, 115-99, parades, binghamton, no-call, 'ready, pahokee, hess, kiermaier, sielski\",\n \"tfc, plowing, ellum, pt, 'corrupt, markus, cerabino, breida, 112-106, kiermaier\",\n 'suggestions, stiffs, nicholls, heinz, appointed, no-call, somerville, ellum, fleming, lotto',\n 'parades, somerville, gale, charlestown, anti-government, xhaka, 3q, binghamton, versatility, lotto',\n 'severino, tiaa, nxt, 65-yard, tfc, versatility, 3q, xhaka, mane, anti-government',\n 'binghamton, sielski, buries, heinz, nicholls, gyms, accessory, salads, shep, gale',\n 'borough-based, entergy, sexton, skywalk, kuwait, wynwood, ellum, lotto, pt, gale',\n \"onwuasor, badin, usl, leaps, salads, holdings, 112-106, 'ready, buries, lotto\",\n 'pnc, broadcasters, gale, uaw-gm, 115-99, alpinestars, versatility, x-rays, seizes, 3q',\n \"leaps, politi, solidarity, lotto, 'ready, accessory, sexton, wynwood, kiermaier, buries\",\n 'spruce, alpinestars, x-rays, holdings, owen, zimmer, parades, politi, lotto, binghamton',\n 'shep, anti-government, 65-yard, onwuasor, gyms, u-17, pahokee, nicholls, 115-99, buries',\n 'binghamton, turpin, zimmer, politi, broadcasters, pnc, w.h, 3q, holdings, allegan',\n 'tyrell, no-call, 112-106, uaw-gm, 115-99, u-17, alpinestars, gale, pahokee, x-rays',\n 'breida, nxt, claire, legislators, heinz, propositions, nicholls, holdings, borough-based, sielski',\n 'pahokee, u-17, 112-106, nxt, fisheries, onwuasor, no-call, pt, holdings, lampard',\n 'prizes, kuwait, spruce, bayside, 65-yard, mane, tfc, 3q, lotto, anti-government',\n \"sexton, uefa, bayside, badin, gyms, no-call, lotto, broadcasters, 'ready, 3q\",\n 'lotto, remedy, kuwait, dispose, somerville, wynwood, uaw-gm, alpinestars, x-rays, allegan',\n \"badin, legislators, x-rays, pnc, 'ready, gyms, seizes, kiermaier, broadcasters, 3q\",\n 'somerville, charlestown, 65-yard, anti-government, spruce, kuwait, gyms, salads, bayside, lotto',\n \"inoue, doritos, x-rays, ellum, marking, salads, kiermaier, 'ready, badin, versatility\",\n 'dispose, severino, 112-106, shep, lafd, wynwood, gyms, parades, anti-government, allegan',\n \"markus, heinz, biketoberfest, cerabino, gale, ellum, nicholls, charlestown, badin, 'ready\",\n 'plowing, parkville, 95-year-old, xhaka, wynwood, zimmer, severino, anti-government, politi, kiermaier',\n \"cerabino, marshfield, 3q, 'corrupt, nxt, kiermaier, levies, lotto, tyrell, allegan\",\n 'onwuasor, agusta, uaw-gm, parkville, allegan, alpinestars, fleming, wynwood, owen, x-rays',\n 'coughlin, tfc, 65-yard, parades, allegan, uaw-gm, alpinestars, 3q, seizes, x-rays',\n 'khsaa, hayden, allis, dispose, borough-based, lorain, no-call, holdings, wynwood, allegan',\n 'juices, tiaa, salads, lampard, versatility, marking, lorain, binghamton, no-call, fleming',\n 'pahokee, mane, legislators, allegan, pnc, borough-based, seizes, broadcasters, binghamton, 3q',\n 'nicholls, sexton, salads, juices, shrine, alpinestars, gyms, heinz, x-rays, versatility',\n 'skywalk, 115-99, binghamton, coby, fulfillment, cbsn, u-17, 65-yard, pahokee, levies',\n 'nj.com, knoxville, 112-106, breida, click, ellum, remedy, plowing, pt, tae',\n 'sielski, x-rays, otto, workshop, plowing, gale, militias, parades, versatility, kiermaier',\n 'onwuasor, legislators, allegan, nicholls, no-call, lampard, uaw-gm, alpinestars, x-rays, gale',\n \"biketoberfest, lampard, marking, holdings, kiermaier, pahokee, borough-based, badin, fleming, 'ready\",\n 'barbershop, skywalk, tiaa, fleming, allegan, severino, kiermaier, suggestions, xhaka, anti-government',\n \"badin, lotto, owen, cerabino, sexton, onwuasor, 6-5, 'ready, kiermaier, fleming\",\n 'propositions, markus, legislators, binghamton, anti-government, gracee, buries, lotto, sielski, kiermaier',\n 'zimmer, thrives, wynwood, revisited, charlestown, onwuasor, politi, legislators, nj.com, allegan',\n 'x-rays, cerabino, markus, tfc, versatility, binghamton, no-call, lampard, legislators, gale',\n 'anti-government, koo, no-call, pt, lotto, heinz, vettel, nicholls, sielski, lampard',\n 'first-party, lotto, seizes, plowing, xhaka, rams-steelers, 3q, mane, parades, anti-government',\n 'billowing, 3,400, binghamton, parades, legislators, gyms, charlestown, anti-government, allegan, tfc',\n \"sielski, badin, owen, biketoberfest, 'ready, x-rays, alpinestars, parades, eastside, fleming\",\n \"lafd, density, u-17, 115-99, versatility, 'ready, 65-yard, pahokee, badin, binghamton\",\n 'lorain, bayside, gyms, gale, filmmaker, thus, no-call, holdings, nxt, salads',\n 'hendersonville, plowing, tyrell, uaw-gm, anti-government, lotto, politi, x-rays, accessory, kiermaier',\n 'whip, jaren, congressmen, jacobs, klopp, bayside, lafd, nj.com, vettel, charlestown',\n \"249, rams-steelers, skywalk, 'corrupt, owen, xhaka, cerabino, anti-government, vettel, binghamton\",\n \"versatility, 'ready, donaire, inoue, alpinestars, ellum, x-rays, fleming, binghamton, lotto\",\n \"breida, 'ready, pahokee, topgolf, buries, markus, click, leaps, 115-99, 3q\",\n 'zimmer, borough-based, holdings, cerabino, appointed, xhaka, allegan, severino, fleming, anti-government',\n 'salads, holdings, wmu, tiaa, parades, lafd, markus, fulfillment, versatility, sielski',\n 'lotto, mane, sielski, alpinestars, tfc, uaw-gm, broadcasters, x-rays, seizes, 3q',\n 'plowing, appointed, borough-based, nicholls, severino, fleming, lotto, binghamton, parades, anti-government',\n 'lampard, 112-106, lorain, shavings, sexton, no-call, heinz, lafd, biketoberfest, nicholls',\n 'inoue, buries, 112-106, politi, salads, mv, severino, zimmer, versatility, fleming',\n 'dyson, plowing, appointed, versatility, cerabino, heinz, nicholls, xhaka, kiermaier, anti-government',\n 'click, kindle, onwuasor, x-rays, biscuits, appointed, ellum, heinz, fleming, nicholls',\n 'lorain, broadcasters, ellum, somerville, mane, w.h, no-call, fleming, lotto, 3q',\n \"donaire, 'moscow, inoue, pt, sielski, lampard, 'ready, badin, onwuasor, holdings\",\n 'seizes, donaire, gale, inoue, alpinestars, x-rays, lotto, 3q, versatility, ellum',\n 'biketoberfest, heinz, pt, allegan, parades, lotto, uaw-gm, alpinestars, fleming, x-rays',\n 'filmmaker, levies, thus, tiaa, gale, rpi, borough-based, nxt, apl, marking',\n 'x-rays, uaw-gm, lorain, sexton, 3q, no-call, mv, salads, allegan, gyms',\n 'creation, eastside, x-rays, broadcasters, topgolf, pahokee, 3q, 115-99, cerabino, parades',\n 'charlestown, buries, broadcasters, pahokee, 115-99, fulfillment, lorain, no-call, 3q, kiermaier',\n 'revisited, anti-government, lotto, tiaa, salads, politi, charlestown, 112-106, legislators, wynwood',\n 'mane, alpinestars, lotto, broadcasters, 3q, severino, anti-government, somerville, fleming, binghamton',\n 'breida, 65-yard, badin, vettel, binghamton, gyms, heinz, nicholls, 115-99, pahokee',\n 'severino, fleming, kuwait, lorain, bayside, anti-government, lotto, uaw-gm, alpinestars, x-rays',\n 'fulfillment, kiermaier, usl, parades, zimmer, nj.com, allegan, charlestown, politi, binghamton',\n \"'fox, allegan, wynwood, legislators, 1.0, politi, 'ready, versatility, kiermaier, gale\",\n \"seizes, pahokee, parades, tiaa, kiermaier, broadcasters, badin, gyms, 'ready, 3q\",\n 'propositions, alpinestars, uaw-gm, suggestions, onwuasor, nj.com, x-rays, pt, binghamton, fleming',\n \"heinz, joyce, gale, nj.com, nicholls, lotto, buries, badin, 'ready, versatility\",\n 'cbsn, u-17, noise-canceling, 115-99, eastside, fleming, 65-yard, breida, fulfillment, pahokee',\n 'lorain, saagar, onwuasor, tiaa, propositions, versatility, no-call, anti-government, sielski, binghamton',\n 'click, ellum, lafd, solidarity, hendersonville, legislators, heinz, nicholls, gyms, allegan',\n 'politi, u-17, charlestown, click, fulfillment, pahokee, 115-99, 3q, buries, allegan',\n 'suggestions, lampard, severino, sielski, no-call, kiermaier, parades, lorain, xhaka, anti-government',\n '3q, kuwait, lotto, levies, ellum, somerville, doritos, parades, marking, kiermaier']"
     },
     "metadata": {},
     "execution_count": 3
    }
   ],
   "source": [
    "N = 10\n",
    "result = []\n",
    "projs = doc_encoder.get_ae_aspects()\n",
    "for j, (proj, idx) in enumerate(zip(*projs)):\n",
    "    idx = idx[-N:].detach().cpu().numpy()\n",
    "    words = ', '.join([id2w[i] for i in idx])\n",
    "    result.append(words)\n",
    "result"
   ]
  },
  {
   "cell_type": "code",
   "execution_count": 4,
   "metadata": {},
   "outputs": [],
   "source": [
    "doc_encoder = model.nrms.doc_encoder"
   ]
  },
  {
   "cell_type": "code",
   "execution_count": 5,
   "metadata": {},
   "outputs": [
    {
     "output_type": "execute_result",
     "data": {
      "text/plain": "tensor([   31, 10810,   241,     1,    32,  8881,    67,  4443,    12,   148,\n         1089,    12])"
     },
     "metadata": {},
     "execution_count": 5
    }
   ],
   "source": [
    "title = 'Best PS5 games : top PlayStation 5 titles to look forward to'.split()\n",
    "idx = torch.tensor([w2id.get(w.lower(), 0) for w in title])\n",
    "idx"
   ]
  },
  {
   "cell_type": "code",
   "execution_count": 6,
   "metadata": {},
   "outputs": [],
   "source": [
    "o, score, _ = doc_encoder(idx.unsqueeze(0), False)\n",
    "score = score.squeeze().detach().tolist()"
   ]
  },
  {
   "cell_type": "code",
   "execution_count": 7,
   "metadata": {},
   "outputs": [
    {
     "output_type": "execute_result",
     "data": {
      "text/plain": "[('Best', 0.1231062188744545),\n ('PS5', 0.1617722511291504),\n ('games', 0.027761921286582947),\n (':', 0.015886632725596428),\n ('top', 0.12275715917348862),\n ('PlayStation', 0.1066460907459259),\n ('5', 0.13037270307540894),\n ('titles', 0.0676967054605484),\n ('to', 0.010461097583174706),\n ('look', 0.04341239482164383),\n ('forward', 0.17113593220710754),\n ('to', 0.018990863114595413)]"
     },
     "metadata": {},
     "execution_count": 7
    }
   ],
   "source": [
    "list(zip(title, score))"
   ]
  },
  {
   "cell_type": "code",
   "execution_count": 8,
   "metadata": {},
   "outputs": [
    {
     "output_type": "execute_result",
     "data": {
      "text/plain": "[('Redskins', 0.08986718952655792),\n ('place', 0.09398113936185837),\n ('TE', 0.09424681216478348),\n ('Jordan', 0.11703678965568542),\n ('Reed', 0.08849827945232391),\n ('on', 0.08922896534204483),\n ('injured', 0.053749967366456985),\n ('reserve,', 0.0956740751862526),\n ('ending', 0.09256748110055923),\n ('his', 0.1126408576965332),\n ('season', 0.07250846177339554)]"
     },
     "metadata": {},
     "execution_count": 8
    }
   ],
   "source": [
    "title = 'NFL Week 9 Odds: Point Spreads, Betting Lines For All 14 Football Games'.split()\n",
    "idx = torch.tensor([w2id.get(w.lower(), 0) for w in title])\n",
    "o, score, _ = doc_encoder(idx.unsqueeze(0), False)\n",
    "score = score.squeeze().detach().tolist()\n",
    "list(zip(title, score))"
   ]
  },
  {
   "cell_type": "code",
   "execution_count": null,
   "metadata": {},
   "outputs": [],
   "source": []
  }
 ]
}